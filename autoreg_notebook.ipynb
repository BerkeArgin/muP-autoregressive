{
  "cells": [
    {
      "cell_type": "code",
      "execution_count": 1,
      "metadata": {
        "colab": {
          "base_uri": "https://localhost:8080/"
        },
        "id": "mP-A070ANdVv",
        "outputId": "ef2c6483-fa83-4602-8e82-1c59ecf7d5d1"
      },
      "outputs": [
        {
          "name": "stdout",
          "output_type": "stream",
          "text": [
            "Requirement already satisfied: transformer_lens in /opt/conda/envs/default/lib/python3.11/site-packages (2.8.1)\n",
            "Requirement already satisfied: accelerate>=0.23.0 in /opt/conda/envs/default/lib/python3.11/site-packages (from transformer_lens) (0.30.1)\n",
            "Requirement already satisfied: beartype<0.15.0,>=0.14.1 in /opt/conda/envs/default/lib/python3.11/site-packages (from transformer_lens) (0.14.1)\n",
            "Requirement already satisfied: better-abc<0.0.4,>=0.0.3 in /opt/conda/envs/default/lib/python3.11/site-packages (from transformer_lens) (0.0.3)\n",
            "Requirement already satisfied: datasets>=2.7.1 in /opt/conda/envs/default/lib/python3.11/site-packages (from transformer_lens) (2.18.0)\n",
            "Requirement already satisfied: einops>=0.6.0 in /opt/conda/envs/default/lib/python3.11/site-packages (from transformer_lens) (0.8.0)\n",
            "Requirement already satisfied: fancy-einsum>=0.0.3 in /opt/conda/envs/default/lib/python3.11/site-packages (from transformer_lens) (0.0.3)\n",
            "Requirement already satisfied: jaxtyping>=0.2.11 in /opt/conda/envs/default/lib/python3.11/site-packages (from transformer_lens) (0.2.34)\n",
            "Requirement already satisfied: numpy>=1.24 in /opt/conda/envs/default/lib/python3.11/site-packages (from transformer_lens) (1.26.4)\n",
            "Requirement already satisfied: pandas>=1.1.5 in /opt/conda/envs/default/lib/python3.11/site-packages (from transformer_lens) (2.2.3)\n",
            "Requirement already satisfied: rich>=12.6.0 in /opt/conda/envs/default/lib/python3.11/site-packages (from transformer_lens) (13.9.3)\n",
            "Requirement already satisfied: sentencepiece in /opt/conda/envs/default/lib/python3.11/site-packages (from transformer_lens) (0.2.0)\n",
            "Requirement already satisfied: torch>=1.10 in /opt/conda/envs/default/lib/python3.11/site-packages (from transformer_lens) (2.5.0)\n",
            "Requirement already satisfied: tqdm>=4.64.1 in /opt/conda/envs/default/lib/python3.11/site-packages (from transformer_lens) (4.66.5)\n",
            "Requirement already satisfied: transformers>=4.37.2 in /opt/conda/envs/default/lib/python3.11/site-packages (from transformer_lens) (4.46.0)\n",
            "Requirement already satisfied: typing-extensions in /opt/conda/envs/default/lib/python3.11/site-packages (from transformer_lens) (4.12.2)\n",
            "Requirement already satisfied: wandb>=0.13.5 in /opt/conda/envs/default/lib/python3.11/site-packages (from transformer_lens) (0.18.5)\n",
            "Requirement already satisfied: packaging>=20.0 in /opt/conda/envs/default/lib/python3.11/site-packages (from accelerate>=0.23.0->transformer_lens) (24.1)\n",
            "Requirement already satisfied: psutil in /opt/conda/envs/default/lib/python3.11/site-packages (from accelerate>=0.23.0->transformer_lens) (6.1.0)\n",
            "Requirement already satisfied: pyyaml in /opt/conda/envs/default/lib/python3.11/site-packages (from accelerate>=0.23.0->transformer_lens) (6.0.2)\n",
            "Requirement already satisfied: huggingface-hub in /opt/conda/envs/default/lib/python3.11/site-packages (from accelerate>=0.23.0->transformer_lens) (0.26.1)\n",
            "Requirement already satisfied: safetensors>=0.3.1 in /opt/conda/envs/default/lib/python3.11/site-packages (from accelerate>=0.23.0->transformer_lens) (0.4.5)\n",
            "Requirement already satisfied: filelock in /opt/conda/envs/default/lib/python3.11/site-packages (from datasets>=2.7.1->transformer_lens) (3.16.1)\n",
            "Requirement already satisfied: pyarrow>=12.0.0 in /opt/conda/envs/default/lib/python3.11/site-packages (from datasets>=2.7.1->transformer_lens) (17.0.0)\n",
            "Requirement already satisfied: pyarrow-hotfix in /opt/conda/envs/default/lib/python3.11/site-packages (from datasets>=2.7.1->transformer_lens) (0.6)\n",
            "Requirement already satisfied: dill<0.3.9,>=0.3.0 in /opt/conda/envs/default/lib/python3.11/site-packages (from datasets>=2.7.1->transformer_lens) (0.3.8)\n",
            "Requirement already satisfied: requests>=2.19.0 in /opt/conda/envs/default/lib/python3.11/site-packages (from datasets>=2.7.1->transformer_lens) (2.32.3)\n",
            "Requirement already satisfied: xxhash in /opt/conda/envs/default/lib/python3.11/site-packages (from datasets>=2.7.1->transformer_lens) (3.5.0)\n",
            "Requirement already satisfied: multiprocess in /opt/conda/envs/default/lib/python3.11/site-packages (from datasets>=2.7.1->transformer_lens) (0.70.16)\n",
            "Requirement already satisfied: fsspec<=2024.2.0,>=2023.1.0 in /opt/conda/envs/default/lib/python3.11/site-packages (from fsspec[http]<=2024.2.0,>=2023.1.0->datasets>=2.7.1->transformer_lens) (2024.2.0)\n",
            "Requirement already satisfied: aiohttp in /opt/conda/envs/default/lib/python3.11/site-packages (from datasets>=2.7.1->transformer_lens) (3.10.10)\n",
            "Requirement already satisfied: typeguard==2.13.3 in /opt/conda/envs/default/lib/python3.11/site-packages (from jaxtyping>=0.2.11->transformer_lens) (2.13.3)\n",
            "Requirement already satisfied: python-dateutil>=2.8.2 in /opt/conda/envs/default/lib/python3.11/site-packages (from pandas>=1.1.5->transformer_lens) (2.9.0)\n",
            "Requirement already satisfied: pytz>=2020.1 in /opt/conda/envs/default/lib/python3.11/site-packages (from pandas>=1.1.5->transformer_lens) (2024.1)\n",
            "Requirement already satisfied: tzdata>=2022.7 in /opt/conda/envs/default/lib/python3.11/site-packages (from pandas>=1.1.5->transformer_lens) (2024.2)\n",
            "Requirement already satisfied: markdown-it-py>=2.2.0 in /opt/conda/envs/default/lib/python3.11/site-packages (from rich>=12.6.0->transformer_lens) (3.0.0)\n",
            "Requirement already satisfied: pygments<3.0.0,>=2.13.0 in /opt/conda/envs/default/lib/python3.11/site-packages (from rich>=12.6.0->transformer_lens) (2.18.0)\n",
            "Requirement already satisfied: sympy==1.13.1 in /opt/conda/envs/default/lib/python3.11/site-packages (from torch>=1.10->transformer_lens) (1.13.1)\n",
            "Requirement already satisfied: networkx in /opt/conda/envs/default/lib/python3.11/site-packages (from torch>=1.10->transformer_lens) (3.4.2)\n",
            "Requirement already satisfied: jinja2 in /opt/conda/envs/default/lib/python3.11/site-packages (from torch>=1.10->transformer_lens) (3.1.4)\n",
            "Requirement already satisfied: mpmath<1.4,>=1.1.0 in /opt/conda/envs/default/lib/python3.11/site-packages (from sympy==1.13.1->torch>=1.10->transformer_lens) (1.3.0)\n",
            "Requirement already satisfied: regex!=2019.12.17 in /opt/conda/envs/default/lib/python3.11/site-packages (from transformers>=4.37.2->transformer_lens) (2024.9.11)\n",
            "Requirement already satisfied: tokenizers<0.21,>=0.20 in /opt/conda/envs/default/lib/python3.11/site-packages (from transformers>=4.37.2->transformer_lens) (0.20.1)\n",
            "Requirement already satisfied: click!=8.0.0,>=7.1 in /opt/conda/envs/default/lib/python3.11/site-packages (from wandb>=0.13.5->transformer_lens) (8.1.7)\n",
            "Requirement already satisfied: docker-pycreds>=0.4.0 in /opt/conda/envs/default/lib/python3.11/site-packages (from wandb>=0.13.5->transformer_lens) (0.4.0)\n",
            "Requirement already satisfied: gitpython!=3.1.29,>=1.0.0 in /opt/conda/envs/default/lib/python3.11/site-packages (from wandb>=0.13.5->transformer_lens) (3.1.43)\n",
            "Requirement already satisfied: platformdirs in /opt/conda/envs/default/lib/python3.11/site-packages (from wandb>=0.13.5->transformer_lens) (4.3.6)\n",
            "Requirement already satisfied: protobuf!=4.21.0,!=5.28.0,<6,>=3.19.0 in /opt/conda/envs/default/lib/python3.11/site-packages (from wandb>=0.13.5->transformer_lens) (4.25.3)\n",
            "Requirement already satisfied: sentry-sdk>=2.0.0 in /opt/conda/envs/default/lib/python3.11/site-packages (from wandb>=0.13.5->transformer_lens) (2.16.0)\n",
            "Requirement already satisfied: setproctitle in /opt/conda/envs/default/lib/python3.11/site-packages (from wandb>=0.13.5->transformer_lens) (1.3.3)\n",
            "Requirement already satisfied: setuptools in /opt/conda/envs/default/lib/python3.11/site-packages (from wandb>=0.13.5->transformer_lens) (75.1.0)\n",
            "Requirement already satisfied: six>=1.4.0 in /opt/conda/envs/default/lib/python3.11/site-packages (from docker-pycreds>=0.4.0->wandb>=0.13.5->transformer_lens) (1.16.0)\n",
            "Requirement already satisfied: aiohappyeyeballs>=2.3.0 in /opt/conda/envs/default/lib/python3.11/site-packages (from aiohttp->datasets>=2.7.1->transformer_lens) (2.4.3)\n",
            "Requirement already satisfied: aiosignal>=1.1.2 in /opt/conda/envs/default/lib/python3.11/site-packages (from aiohttp->datasets>=2.7.1->transformer_lens) (1.3.1)\n",
            "Requirement already satisfied: attrs>=17.3.0 in /opt/conda/envs/default/lib/python3.11/site-packages (from aiohttp->datasets>=2.7.1->transformer_lens) (24.2.0)\n",
            "Requirement already satisfied: frozenlist>=1.1.1 in /opt/conda/envs/default/lib/python3.11/site-packages (from aiohttp->datasets>=2.7.1->transformer_lens) (1.5.0)\n",
            "Requirement already satisfied: multidict<7.0,>=4.5 in /opt/conda/envs/default/lib/python3.11/site-packages (from aiohttp->datasets>=2.7.1->transformer_lens) (6.1.0)\n",
            "Requirement already satisfied: yarl<2.0,>=1.12.0 in /opt/conda/envs/default/lib/python3.11/site-packages (from aiohttp->datasets>=2.7.1->transformer_lens) (1.16.0)\n",
            "Requirement already satisfied: gitdb<5,>=4.0.1 in /opt/conda/envs/default/lib/python3.11/site-packages (from gitpython!=3.1.29,>=1.0.0->wandb>=0.13.5->transformer_lens) (4.0.11)\n",
            "Requirement already satisfied: mdurl~=0.1 in /opt/conda/envs/default/lib/python3.11/site-packages (from markdown-it-py>=2.2.0->rich>=12.6.0->transformer_lens) (0.1.2)\n",
            "Requirement already satisfied: charset-normalizer<4,>=2 in /opt/conda/envs/default/lib/python3.11/site-packages (from requests>=2.19.0->datasets>=2.7.1->transformer_lens) (3.4.0)\n",
            "Requirement already satisfied: idna<4,>=2.5 in /opt/conda/envs/default/lib/python3.11/site-packages (from requests>=2.19.0->datasets>=2.7.1->transformer_lens) (3.10)\n",
            "Requirement already satisfied: urllib3<3,>=1.21.1 in /opt/conda/envs/default/lib/python3.11/site-packages (from requests>=2.19.0->datasets>=2.7.1->transformer_lens) (2.2.3)\n",
            "Requirement already satisfied: certifi>=2017.4.17 in /opt/conda/envs/default/lib/python3.11/site-packages (from requests>=2.19.0->datasets>=2.7.1->transformer_lens) (2024.8.30)\n",
            "Requirement already satisfied: MarkupSafe>=2.0 in /opt/conda/envs/default/lib/python3.11/site-packages (from jinja2->torch>=1.10->transformer_lens) (3.0.2)\n",
            "Requirement already satisfied: smmap<6,>=3.0.1 in /opt/conda/envs/default/lib/python3.11/site-packages (from gitdb<5,>=4.0.1->gitpython!=3.1.29,>=1.0.0->wandb>=0.13.5->transformer_lens) (5.0.0)\n",
            "Requirement already satisfied: propcache>=0.2.0 in /opt/conda/envs/default/lib/python3.11/site-packages (from yarl<2.0,>=1.12.0->aiohttp->datasets>=2.7.1->transformer_lens) (0.2.0)\n",
            "Requirement already satisfied: einops in /opt/conda/envs/default/lib/python3.11/site-packages (0.8.0)\n",
            "Requirement already satisfied: jaxtyping in /opt/conda/envs/default/lib/python3.11/site-packages (0.2.34)\n",
            "Requirement already satisfied: typeguard==2.13.3 in /opt/conda/envs/default/lib/python3.11/site-packages (from jaxtyping) (2.13.3)\n"
          ]
        }
      ],
      "source": [
        "!pip install transformer_lens\n",
        "!pip install einops\n",
        "!pip install jaxtyping"
      ]
    },
    {
      "cell_type": "code",
      "execution_count": 1,
      "metadata": {
        "id": "3sD6YocQNXGn"
      },
      "outputs": [],
      "source": [
        "import datasets\n",
        "\n",
        "import torch as t\n",
        "from torch.utils.data import DataLoader\n",
        "from tqdm.notebook import tqdm\n",
        "from utils import Config, TransformerTrainingArgs\n",
        "from transformer_modules import DemoTransformer\n",
        "from transformers import GPT2Tokenizer\n",
        "from trainer import TransformerTrainer\n",
        "\n",
        "device = t.device('mps' if t.backends.mps.is_available() else 'cuda' if t.cuda.is_available() else 'cpu')\n",
        "\n",
        "%load_ext autoreload\n",
        "%autoreload 2"
      ]
    },
    {
      "cell_type": "code",
      "execution_count": 7,
      "metadata": {},
      "outputs": [],
      "source": [
        "model_cfg = Config(\n",
        "    debug=False,\n",
        "    apply_UmuP=True,\n",
        "    d_model=256,\n",
        "    n_heads=4,\n",
        "    d_head=64,\n",
        "    d_mlp=1024,\n",
        "    n_layers=2,\n",
        "    n_ctx=256,\n",
        "    d_vocab=50257 ## GPT2 vocab size\n",
        ")\n",
        "\n"
      ]
    },
    {
      "cell_type": "code",
      "execution_count": 10,
      "metadata": {},
      "outputs": [],
      "source": [
        "args = TransformerTrainingArgs(\n",
        "    lr=1e-1,\n",
        "    weight_decay=1e-2,\n",
        "    epochs=20,\n",
        "    max_steps_per_epoch=100,\n",
        "    batch_size=16,\n",
        "    wandb_project=\"mup-transformer\",\n",
        "    wandb_name=\"transformer-test-mup\"\n",
        ")"
      ]
    },
    {
      "cell_type": "code",
      "execution_count": 4,
      "metadata": {},
      "outputs": [
        {
          "name": "stdout",
          "output_type": "stream",
          "text": [
            "Dataset({\n",
            "    features: ['text'],\n",
            "    num_rows: 10000\n",
            "})\n",
            "It is done, and submitted. You can play “Survival of the Tastiest” on Android, and on the web. Playi\n"
          ]
        }
      ],
      "source": [
        "dataset = datasets.load_dataset(\"NeelNanda/pile-10k\", split=\"train\").remove_columns(\"meta\")\n",
        "print(dataset)\n",
        "print(dataset[0]['text'][:100])"
      ]
    },
    {
      "cell_type": "code",
      "execution_count": 5,
      "metadata": {},
      "outputs": [],
      "source": [
        "from transformer_lens.utils import tokenize_and_concatenate\n",
        "\n",
        "tokenizer = GPT2Tokenizer.from_pretrained('gpt2')\n",
        "\n",
        "tokenized_dataset = tokenize_and_concatenate(dataset, tokenizer, streaming=False, max_length=model_cfg.n_ctx, column_name=\"text\", add_bos_token=True, num_proc=4)\n",
        "\n",
        "dataset_dict = tokenized_dataset.train_test_split(test_size=1000)"
      ]
    },
    {
      "cell_type": "code",
      "execution_count": 11,
      "metadata": {},
      "outputs": [
        {
          "data": {
            "text/html": [
              "Tracking run with wandb version 0.18.5"
            ],
            "text/plain": [
              "<IPython.core.display.HTML object>"
            ]
          },
          "metadata": {},
          "output_type": "display_data"
        },
        {
          "data": {
            "text/html": [
              "Run data is saved locally in <code>/mnt/dlabscratch1/argin/muP/wandb/run-20241031_004825-jrt8h6op</code>"
            ],
            "text/plain": [
              "<IPython.core.display.HTML object>"
            ]
          },
          "metadata": {},
          "output_type": "display_data"
        },
        {
          "data": {
            "text/html": [
              "Syncing run <strong><a href='https://wandb.ai/berkeargin/mup-transformer/runs/jrt8h6op' target=\"_blank\">transformer-test-mup</a></strong> to <a href='https://wandb.ai/berkeargin/mup-transformer' target=\"_blank\">Weights & Biases</a> (<a href='https://wandb.me/run' target=\"_blank\">docs</a>)<br/>"
            ],
            "text/plain": [
              "<IPython.core.display.HTML object>"
            ]
          },
          "metadata": {},
          "output_type": "display_data"
        },
        {
          "data": {
            "text/html": [
              " View project at <a href='https://wandb.ai/berkeargin/mup-transformer' target=\"_blank\">https://wandb.ai/berkeargin/mup-transformer</a>"
            ],
            "text/plain": [
              "<IPython.core.display.HTML object>"
            ]
          },
          "metadata": {},
          "output_type": "display_data"
        },
        {
          "data": {
            "text/html": [
              " View run at <a href='https://wandb.ai/berkeargin/mup-transformer/runs/jrt8h6op' target=\"_blank\">https://wandb.ai/berkeargin/mup-transformer/runs/jrt8h6op</a>"
            ],
            "text/plain": [
              "<IPython.core.display.HTML object>"
            ]
          },
          "metadata": {},
          "output_type": "display_data"
        },
        {
          "name": "stderr",
          "output_type": "stream",
          "text": [
            "Epoch 20, loss: 9.171, accuracy: 0.031: : 2020it [03:32, 12.13it/s]                        "
          ]
        },
        {
          "data": {
            "text/html": [
              "<style>\n",
              "    table.wandb td:nth-child(1) { padding: 0 10px; text-align: left ; width: auto;} td:nth-child(2) {text-align: left ; width: 100%}\n",
              "    .wandb-row { display: flex; flex-direction: row; flex-wrap: wrap; justify-content: flex-start; width: 100% }\n",
              "    .wandb-col { display: flex; flex-direction: column; flex-basis: 100%; flex: 1; padding: 10px; }\n",
              "    </style>\n",
              "<div class=\"wandb-row\"><div class=\"wandb-col\"><h3>Run history:</h3><br/><table class=\"wandb\"><tr><td>accuracy</td><td>███▇▁█▃▁▁▁▇█████████</td></tr><tr><td>train_loss</td><td>█████▇▇▇▇▇▆▆▆▆▆▅▅▅▅▅▅▅▅▅▅▄▄▄▃▃▃▃▂▂▂▂▂▁▂▁</td></tr></table><br/></div><div class=\"wandb-col\"><h3>Run summary:</h3><br/><table class=\"wandb\"><tr><td>accuracy</td><td>0.03122</td></tr><tr><td>train_loss</td><td>9.17105</td></tr></table><br/></div></div>"
            ],
            "text/plain": [
              "<IPython.core.display.HTML object>"
            ]
          },
          "metadata": {},
          "output_type": "display_data"
        },
        {
          "data": {
            "text/html": [
              " View run <strong style=\"color:#cdcd00\">transformer-test-mup</strong> at: <a href='https://wandb.ai/berkeargin/mup-transformer/runs/jrt8h6op' target=\"_blank\">https://wandb.ai/berkeargin/mup-transformer/runs/jrt8h6op</a><br/> View project at: <a href='https://wandb.ai/berkeargin/mup-transformer' target=\"_blank\">https://wandb.ai/berkeargin/mup-transformer</a><br/>Synced 5 W&B file(s), 0 media file(s), 0 artifact file(s) and 0 other file(s)"
            ],
            "text/plain": [
              "<IPython.core.display.HTML object>"
            ]
          },
          "metadata": {},
          "output_type": "display_data"
        },
        {
          "data": {
            "text/html": [
              "Find logs at: <code>./wandb/run-20241031_004825-jrt8h6op/logs</code>"
            ],
            "text/plain": [
              "<IPython.core.display.HTML object>"
            ]
          },
          "metadata": {},
          "output_type": "display_data"
        },
        {
          "name": "stderr",
          "output_type": "stream",
          "text": [
            "/opt/conda/envs/default/lib/python3.11/site-packages/wandb/sdk/wandb_run.py:2386: UserWarning: Run (jrt8h6op) is finished. The call to `_console_raw_callback` will be ignored. Please make sure that you are using an active run.\n",
            "  lambda data: self._console_raw_callback(\"stderr\", data),\n",
            "Epoch 20, loss: 9.171, accuracy: 0.031: : 2020it [03:37,  9.31it/s]\n"
          ]
        }
      ],
      "source": [
        "model = DemoTransformer(model_cfg).to(device)\n",
        "trainer = TransformerTrainer(args, model, dataset_dict)\n",
        "trainer.train()"
      ]
    }
  ],
  "metadata": {
    "accelerator": "GPU",
    "colab": {
      "gpuType": "T4",
      "provenance": []
    },
    "kernelspec": {
      "display_name": "default",
      "language": "python",
      "name": "python3"
    },
    "language_info": {
      "codemirror_mode": {
        "name": "ipython",
        "version": 3
      },
      "file_extension": ".py",
      "mimetype": "text/x-python",
      "name": "python",
      "nbconvert_exporter": "python",
      "pygments_lexer": "ipython3",
      "version": "3.11.9"
    }
  },
  "nbformat": 4,
  "nbformat_minor": 0
}
